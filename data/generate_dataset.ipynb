{
 "cells": [
  {
   "cell_type": "code",
   "execution_count": null,
   "id": "060a3b07-0bdd-4413-984f-eafe03d6142f",
   "metadata": {},
   "outputs": [],
   "source": [
    "import pandas as pd\n",
    "import numpy as np"
   ]
  },
  {
   "cell_type": "code",
   "execution_count": null,
   "id": "7fc322ee-0383-4aa9-957c-1be5775bc7eb",
   "metadata": {},
   "outputs": [],
   "source": [
    "df = pd.read_csv('./dataset_template.csv')"
   ]
  },
  {
   "cell_type": "code",
   "execution_count": null,
   "id": "2e168ed2-6633-4deb-8d40-10ed4eb3c408",
   "metadata": {},
   "outputs": [],
   "source": [
    "df"
   ]
  },
  {
   "cell_type": "code",
   "execution_count": null,
   "id": "c6eb2196-8615-49d8-a7a3-dce2770c58c1",
   "metadata": {},
   "outputs": [],
   "source": [
    "df['is_reserved'] = np.random.choice([0, 1], len(df))"
   ]
  },
  {
   "cell_type": "code",
   "execution_count": null,
   "id": "266abff5-6244-4caa-a419-b1e780726eeb",
   "metadata": {},
   "outputs": [],
   "source": [
    "df['reserver_card_id'] = -1\n",
    "mask = df['is_reserved'] == 1\n",
    "df.loc[mask, 'reserver_card_id'] = np.random.choice(range(len(df)), size=sum(mask), replace=False)"
   ]
  },
  {
   "cell_type": "code",
   "execution_count": null,
   "id": "dd2452a5-d845-45de-b69b-8a936677fb58",
   "metadata": {},
   "outputs": [],
   "source": [
    "df"
   ]
  },
  {
   "cell_type": "code",
   "execution_count": null,
   "id": "ce435815-1811-45df-b8d6-cf7a9d7568d0",
   "metadata": {},
   "outputs": [],
   "source": [
    "df.info()"
   ]
  },
  {
   "cell_type": "code",
   "execution_count": null,
   "id": "0e87063a-79c6-4b3e-9e5b-4955a3e39b5c",
   "metadata": {},
   "outputs": [],
   "source": [
    "df = df.dropna()"
   ]
  },
  {
   "cell_type": "code",
   "execution_count": null,
   "id": "be858101-99a3-4f2e-85d7-fa2408be1527",
   "metadata": {},
   "outputs": [],
   "source": [
    "df.info()"
   ]
  },
  {
   "cell_type": "code",
   "execution_count": null,
   "id": "9764f7fa-2e53-417c-adc2-36b7e2cc4709",
   "metadata": {},
   "outputs": [],
   "source": [
    "df.to_csv('./dataset.csv', index=False)"
   ]
  }
 ],
 "metadata": {
  "kernelspec": {
   "display_name": "Python 3 (ipykernel)",
   "language": "python",
   "name": "python3"
  },
  "language_info": {
   "codemirror_mode": {
    "name": "ipython",
    "version": 3
   },
   "file_extension": ".py",
   "mimetype": "text/x-python",
   "name": "python",
   "nbconvert_exporter": "python",
   "pygments_lexer": "ipython3",
   "version": "3.9.13"
  }
 },
 "nbformat": 4,
 "nbformat_minor": 5
}
